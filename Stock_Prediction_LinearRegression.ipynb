{
  "cells": [
    {
      "cell_type": "markdown",
      "metadata": {
        "id": "view-in-github",
        "colab_type": "text"
      },
      "source": [
        "<a href=\"https://colab.research.google.com/github/aruninimz/ML_Assignment2_IT19139418_IT19142692_-IT19127774_IT19033938/blob/main/Stock_Prediction_LinearRegression.ipynb\" target=\"_parent\"><img src=\"https://colab.research.google.com/assets/colab-badge.svg\" alt=\"Open In Colab\"/></a>"
      ]
    },
    {
      "cell_type": "code",
      "execution_count": 3,
      "id": "a45f49d6",
      "metadata": {
        "id": "a45f49d6"
      },
      "outputs": [],
      "source": [
        "# import the libraries\n",
        "import csv\n",
        "import datetime\n",
        "import numpy as np\n",
        "import pandas as pd\n",
        "from sklearn import metrics\n",
        "from sklearn.model_selection import train_test_split\n",
        "%matplotlib inline\n",
        "import matplotlib.pyplot as plt"
      ]
    },
    {
      "cell_type": "code",
      "source": [
        "#connect to the google drive \n",
        "from google.colab import drive\n",
        "drive.mount('/content/drive')"
      ],
      "metadata": {
        "colab": {
          "base_uri": "https://localhost:8080/"
        },
        "id": "NzbZYZVImwMB",
        "outputId": "41970c47-c008-4d8a-f86b-e1a460486dde"
      },
      "id": "NzbZYZVImwMB",
      "execution_count": 1,
      "outputs": [
        {
          "output_type": "stream",
          "name": "stdout",
          "text": [
            "Mounted at /content/drive\n"
          ]
        }
      ]
    },
    {
      "cell_type": "code",
      "execution_count": 4,
      "id": "7f94a5c3",
      "metadata": {
        "colab": {
          "base_uri": "https://localhost:8080/",
          "height": 424
        },
        "id": "7f94a5c3",
        "outputId": "668259cf-951b-4416-dcb5-dbbbddd30c6e"
      },
      "outputs": [
        {
          "output_type": "execute_result",
          "data": {
            "text/plain": [
              "           Date        Open        High         Low       Close    Volume  \\\n",
              "0     6/29/2010   19.000000   25.000000   17.540001   23.889999  18766300   \n",
              "1     6/30/2010   25.790001   30.420000   23.299999   23.830000  17187100   \n",
              "2      7/1/2010   25.000000   25.920000   20.270000   21.959999   8218800   \n",
              "3      7/2/2010   23.000000   23.100000   18.709999   19.200001   5139800   \n",
              "4      7/6/2010   20.000000   20.000000   15.830000   16.110001   6866900   \n",
              "...         ...         ...         ...         ...         ...       ...   \n",
              "1687  3/13/2017  244.820007  246.850006  242.779999  246.169998   3010700   \n",
              "1688  3/14/2017  246.110001  258.119995  246.020004  258.000000   7575500   \n",
              "1689  3/15/2017  257.000000  261.000000  254.270004  255.729996   4816600   \n",
              "1690  3/16/2017  262.399994  265.750000  259.059998  262.049988   7100400   \n",
              "1691  3/17/2017  264.000000  265.329987  261.200012  261.500000   6475900   \n",
              "\n",
              "       Adj Close  \n",
              "0      23.889999  \n",
              "1      23.830000  \n",
              "2      21.959999  \n",
              "3      19.200001  \n",
              "4      16.110001  \n",
              "...          ...  \n",
              "1687  246.169998  \n",
              "1688  258.000000  \n",
              "1689  255.729996  \n",
              "1690  262.049988  \n",
              "1691  261.500000  \n",
              "\n",
              "[1692 rows x 7 columns]"
            ],
            "text/html": [
              "\n",
              "  <div id=\"df-6de91405-cb7b-41a3-a132-1f172d21118f\">\n",
              "    <div class=\"colab-df-container\">\n",
              "      <div>\n",
              "<style scoped>\n",
              "    .dataframe tbody tr th:only-of-type {\n",
              "        vertical-align: middle;\n",
              "    }\n",
              "\n",
              "    .dataframe tbody tr th {\n",
              "        vertical-align: top;\n",
              "    }\n",
              "\n",
              "    .dataframe thead th {\n",
              "        text-align: right;\n",
              "    }\n",
              "</style>\n",
              "<table border=\"1\" class=\"dataframe\">\n",
              "  <thead>\n",
              "    <tr style=\"text-align: right;\">\n",
              "      <th></th>\n",
              "      <th>Date</th>\n",
              "      <th>Open</th>\n",
              "      <th>High</th>\n",
              "      <th>Low</th>\n",
              "      <th>Close</th>\n",
              "      <th>Volume</th>\n",
              "      <th>Adj Close</th>\n",
              "    </tr>\n",
              "  </thead>\n",
              "  <tbody>\n",
              "    <tr>\n",
              "      <th>0</th>\n",
              "      <td>6/29/2010</td>\n",
              "      <td>19.000000</td>\n",
              "      <td>25.000000</td>\n",
              "      <td>17.540001</td>\n",
              "      <td>23.889999</td>\n",
              "      <td>18766300</td>\n",
              "      <td>23.889999</td>\n",
              "    </tr>\n",
              "    <tr>\n",
              "      <th>1</th>\n",
              "      <td>6/30/2010</td>\n",
              "      <td>25.790001</td>\n",
              "      <td>30.420000</td>\n",
              "      <td>23.299999</td>\n",
              "      <td>23.830000</td>\n",
              "      <td>17187100</td>\n",
              "      <td>23.830000</td>\n",
              "    </tr>\n",
              "    <tr>\n",
              "      <th>2</th>\n",
              "      <td>7/1/2010</td>\n",
              "      <td>25.000000</td>\n",
              "      <td>25.920000</td>\n",
              "      <td>20.270000</td>\n",
              "      <td>21.959999</td>\n",
              "      <td>8218800</td>\n",
              "      <td>21.959999</td>\n",
              "    </tr>\n",
              "    <tr>\n",
              "      <th>3</th>\n",
              "      <td>7/2/2010</td>\n",
              "      <td>23.000000</td>\n",
              "      <td>23.100000</td>\n",
              "      <td>18.709999</td>\n",
              "      <td>19.200001</td>\n",
              "      <td>5139800</td>\n",
              "      <td>19.200001</td>\n",
              "    </tr>\n",
              "    <tr>\n",
              "      <th>4</th>\n",
              "      <td>7/6/2010</td>\n",
              "      <td>20.000000</td>\n",
              "      <td>20.000000</td>\n",
              "      <td>15.830000</td>\n",
              "      <td>16.110001</td>\n",
              "      <td>6866900</td>\n",
              "      <td>16.110001</td>\n",
              "    </tr>\n",
              "    <tr>\n",
              "      <th>...</th>\n",
              "      <td>...</td>\n",
              "      <td>...</td>\n",
              "      <td>...</td>\n",
              "      <td>...</td>\n",
              "      <td>...</td>\n",
              "      <td>...</td>\n",
              "      <td>...</td>\n",
              "    </tr>\n",
              "    <tr>\n",
              "      <th>1687</th>\n",
              "      <td>3/13/2017</td>\n",
              "      <td>244.820007</td>\n",
              "      <td>246.850006</td>\n",
              "      <td>242.779999</td>\n",
              "      <td>246.169998</td>\n",
              "      <td>3010700</td>\n",
              "      <td>246.169998</td>\n",
              "    </tr>\n",
              "    <tr>\n",
              "      <th>1688</th>\n",
              "      <td>3/14/2017</td>\n",
              "      <td>246.110001</td>\n",
              "      <td>258.119995</td>\n",
              "      <td>246.020004</td>\n",
              "      <td>258.000000</td>\n",
              "      <td>7575500</td>\n",
              "      <td>258.000000</td>\n",
              "    </tr>\n",
              "    <tr>\n",
              "      <th>1689</th>\n",
              "      <td>3/15/2017</td>\n",
              "      <td>257.000000</td>\n",
              "      <td>261.000000</td>\n",
              "      <td>254.270004</td>\n",
              "      <td>255.729996</td>\n",
              "      <td>4816600</td>\n",
              "      <td>255.729996</td>\n",
              "    </tr>\n",
              "    <tr>\n",
              "      <th>1690</th>\n",
              "      <td>3/16/2017</td>\n",
              "      <td>262.399994</td>\n",
              "      <td>265.750000</td>\n",
              "      <td>259.059998</td>\n",
              "      <td>262.049988</td>\n",
              "      <td>7100400</td>\n",
              "      <td>262.049988</td>\n",
              "    </tr>\n",
              "    <tr>\n",
              "      <th>1691</th>\n",
              "      <td>3/17/2017</td>\n",
              "      <td>264.000000</td>\n",
              "      <td>265.329987</td>\n",
              "      <td>261.200012</td>\n",
              "      <td>261.500000</td>\n",
              "      <td>6475900</td>\n",
              "      <td>261.500000</td>\n",
              "    </tr>\n",
              "  </tbody>\n",
              "</table>\n",
              "<p>1692 rows × 7 columns</p>\n",
              "</div>\n",
              "      <button class=\"colab-df-convert\" onclick=\"convertToInteractive('df-6de91405-cb7b-41a3-a132-1f172d21118f')\"\n",
              "              title=\"Convert this dataframe to an interactive table.\"\n",
              "              style=\"display:none;\">\n",
              "        \n",
              "  <svg xmlns=\"http://www.w3.org/2000/svg\" height=\"24px\"viewBox=\"0 0 24 24\"\n",
              "       width=\"24px\">\n",
              "    <path d=\"M0 0h24v24H0V0z\" fill=\"none\"/>\n",
              "    <path d=\"M18.56 5.44l.94 2.06.94-2.06 2.06-.94-2.06-.94-.94-2.06-.94 2.06-2.06.94zm-11 1L8.5 8.5l.94-2.06 2.06-.94-2.06-.94L8.5 2.5l-.94 2.06-2.06.94zm10 10l.94 2.06.94-2.06 2.06-.94-2.06-.94-.94-2.06-.94 2.06-2.06.94z\"/><path d=\"M17.41 7.96l-1.37-1.37c-.4-.4-.92-.59-1.43-.59-.52 0-1.04.2-1.43.59L10.3 9.45l-7.72 7.72c-.78.78-.78 2.05 0 2.83L4 21.41c.39.39.9.59 1.41.59.51 0 1.02-.2 1.41-.59l7.78-7.78 2.81-2.81c.8-.78.8-2.07 0-2.86zM5.41 20L4 18.59l7.72-7.72 1.47 1.35L5.41 20z\"/>\n",
              "  </svg>\n",
              "      </button>\n",
              "      \n",
              "  <style>\n",
              "    .colab-df-container {\n",
              "      display:flex;\n",
              "      flex-wrap:wrap;\n",
              "      gap: 12px;\n",
              "    }\n",
              "\n",
              "    .colab-df-convert {\n",
              "      background-color: #E8F0FE;\n",
              "      border: none;\n",
              "      border-radius: 50%;\n",
              "      cursor: pointer;\n",
              "      display: none;\n",
              "      fill: #1967D2;\n",
              "      height: 32px;\n",
              "      padding: 0 0 0 0;\n",
              "      width: 32px;\n",
              "    }\n",
              "\n",
              "    .colab-df-convert:hover {\n",
              "      background-color: #E2EBFA;\n",
              "      box-shadow: 0px 1px 2px rgba(60, 64, 67, 0.3), 0px 1px 3px 1px rgba(60, 64, 67, 0.15);\n",
              "      fill: #174EA6;\n",
              "    }\n",
              "\n",
              "    [theme=dark] .colab-df-convert {\n",
              "      background-color: #3B4455;\n",
              "      fill: #D2E3FC;\n",
              "    }\n",
              "\n",
              "    [theme=dark] .colab-df-convert:hover {\n",
              "      background-color: #434B5C;\n",
              "      box-shadow: 0px 1px 3px 1px rgba(0, 0, 0, 0.15);\n",
              "      filter: drop-shadow(0px 1px 2px rgba(0, 0, 0, 0.3));\n",
              "      fill: #FFFFFF;\n",
              "    }\n",
              "  </style>\n",
              "\n",
              "      <script>\n",
              "        const buttonEl =\n",
              "          document.querySelector('#df-6de91405-cb7b-41a3-a132-1f172d21118f button.colab-df-convert');\n",
              "        buttonEl.style.display =\n",
              "          google.colab.kernel.accessAllowed ? 'block' : 'none';\n",
              "\n",
              "        async function convertToInteractive(key) {\n",
              "          const element = document.querySelector('#df-6de91405-cb7b-41a3-a132-1f172d21118f');\n",
              "          const dataTable =\n",
              "            await google.colab.kernel.invokeFunction('convertToInteractive',\n",
              "                                                     [key], {});\n",
              "          if (!dataTable) return;\n",
              "\n",
              "          const docLinkHtml = 'Like what you see? Visit the ' +\n",
              "            '<a target=\"_blank\" href=https://colab.research.google.com/notebooks/data_table.ipynb>data table notebook</a>'\n",
              "            + ' to learn more about interactive tables.';\n",
              "          element.innerHTML = '';\n",
              "          dataTable['output_type'] = 'display_data';\n",
              "          await google.colab.output.renderOutput(dataTable, element);\n",
              "          const docLink = document.createElement('div');\n",
              "          docLink.innerHTML = docLinkHtml;\n",
              "          element.appendChild(docLink);\n",
              "        }\n",
              "      </script>\n",
              "    </div>\n",
              "  </div>\n",
              "  "
            ]
          },
          "metadata": {},
          "execution_count": 4
        }
      ],
      "source": [
        "#Import data into  dataset object\n",
        "dataSet = pd.read_csv('/content/drive/MyDrive/ML Assignment2/Tesla.csv - Tesla.csv.csv')\n",
        "dataSet"
      ]
    },
    {
      "cell_type": "code",
      "source": [
        "#Drop unwanted  columns \n",
        "dataSet.drop('Adj Close' ,axis = 1 ,inplace = True) "
      ],
      "metadata": {
        "id": "mnj8V4hxXtaJ"
      },
      "id": "mnj8V4hxXtaJ",
      "execution_count": 5,
      "outputs": []
    },
    {
      "cell_type": "code",
      "source": [
        "#check for the null values \n",
        "dataSet.isnull().sum()"
      ],
      "metadata": {
        "colab": {
          "base_uri": "https://localhost:8080/"
        },
        "id": "n2z0KAXRYVQ9",
        "outputId": "25b11710-404d-40b6-aa20-6c9b2cab8062"
      },
      "id": "n2z0KAXRYVQ9",
      "execution_count": 6,
      "outputs": [
        {
          "output_type": "execute_result",
          "data": {
            "text/plain": [
              "Date      0\n",
              "Open      0\n",
              "High      0\n",
              "Low       0\n",
              "Close     0\n",
              "Volume    0\n",
              "dtype: int64"
            ]
          },
          "metadata": {},
          "execution_count": 6
        }
      ]
    },
    {
      "cell_type": "code",
      "source": [
        "import seaborn as sn # for data visualization"
      ],
      "metadata": {
        "id": "rASzsHh179DN"
      },
      "id": "rASzsHh179DN",
      "execution_count": 9,
      "outputs": []
    },
    {
      "cell_type": "code",
      "source": [
        "# create seaborn heatmap\n",
        "matrix = dataSet.corr().round(2)\n",
        "mask = np.triu(np.ones_like(matrix, dtype=bool))\n",
        "sn.heatmap(matrix, annot=True, vmax=1, vmin=-1, center=0, cmap='vlag', mask=mask)\n",
        "plt.show()"
      ],
      "metadata": {
        "colab": {
          "base_uri": "https://localhost:8080/",
          "height": 269
        },
        "id": "pfyouf-3Grid",
        "outputId": "6cdd06ad-2d18-4584-ad30-aea0cdf37dc0"
      },
      "id": "pfyouf-3Grid",
      "execution_count": 10,
      "outputs": [
        {
          "output_type": "display_data",
          "data": {
            "text/plain": [
              "<Figure size 432x288 with 2 Axes>"
            ],
            "image/png": "[encoded data removed]"
          },
          "metadata": {
            "needs_background": "light"
          }
        }
      ]
    },
    {
      "cell_type": "code",
      "source": [
        "\n",
        "fig = plt.figure(figsize =(10, 7)) \n",
        "\n",
        "# Creating plot \n",
        "plt.boxplot(dataSet['Close']) \n",
        "\n",
        "# show plot \n",
        "plt.show()"
      ],
      "metadata": {
        "colab": {
          "base_uri": "https://localhost:8080/",
          "height": 428
        },
        "id": "OqEh4gEG9XbP",
        "outputId": "4cd75708-6686-46df-da0b-679ee241945d"
      },
      "id": "OqEh4gEG9XbP",
      "execution_count": 18,
      "outputs": [
        {
          "output_type": "display_data",
          "data": {
            "text/plain": [
              "<Figure size 720x504 with 1 Axes>"
            ],
            "image/png": "[encoded data removed]"
          },
          "metadata": {
            "needs_background": "light"
          }
        }
      ]
    },
    {
      "cell_type": "code",
      "source": [
        "\n",
        "fig = plt.figure(figsize =(10, 7)) \n",
        "\n",
        "# Creating plot \n",
        "plt.boxplot(dataSet['Volume']) \n",
        "\n",
        "# show plot \n",
        "plt.show()"
      ],
      "metadata": {
        "colab": {
          "base_uri": "https://localhost:8080/",
          "height": 439
        },
        "id": "0T-Ym2fy9c6C",
        "outputId": "c2a3198c-d517-428b-80e5-3893ad189076"
      },
      "id": "0T-Ym2fy9c6C",
      "execution_count": 19,
      "outputs": [
        {
          "output_type": "display_data",
          "data": {
            "text/plain": [
              "<Figure size 720x504 with 1 Axes>"
            ],
            "image/png": "[encoded data removed]"
          },
          "metadata": {
            "needs_background": "light"
          }
        }
      ]
    },
    {
      "cell_type": "code",
      "source": [
        "\n",
        "fig = plt.figure(figsize =(10, 7)) \n",
        "\n",
        "# Creating plot \n",
        "plt.boxplot(dataSet['Low']) \n",
        "\n",
        "# show plot \n",
        "plt.show()"
      ],
      "metadata": {
        "colab": {
          "base_uri": "https://localhost:8080/",
          "height": 428
        },
        "id": "5-JKyhXQ9S-s",
        "outputId": "935c2ded-1755-4c64-e185-220ee9e7e6e6"
      },
      "id": "5-JKyhXQ9S-s",
      "execution_count": 17,
      "outputs": [
        {
          "output_type": "display_data",
          "data": {
            "text/plain": [
              "<Figure size 720x504 with 1 Axes>"
            ],
            "image/png": "[encoded data removed]"
          },
          "metadata": {
            "needs_background": "light"
          }
        }
      ]
    },
    {
      "cell_type": "code",
      "source": [
        "\n",
        "fig = plt.figure(figsize =(10, 7)) \n",
        "\n",
        "# Creating plot \n",
        "plt.boxplot(dataSet['High']) \n",
        "\n",
        "# show plot \n",
        "plt.show()"
      ],
      "metadata": {
        "colab": {
          "base_uri": "https://localhost:8080/",
          "height": 428
        },
        "id": "gglMvkS9Ld64",
        "outputId": "9f61f15e-94b6-43a0-a89c-c0075fc9d534"
      },
      "id": "gglMvkS9Ld64",
      "execution_count": 16,
      "outputs": [
        {
          "output_type": "display_data",
          "data": {
            "text/plain": [
              "<Figure size 720x504 with 1 Axes>"
            ],
            "image/png": "[encoded data removed]"
          },
          "metadata": {
            "needs_background": "light"
          }
        }
      ]
    },
    {
      "cell_type": "code",
      "source": [
        "\n",
        "\n",
        "fig = plt.figure(figsize =(10, 7)) \n",
        "\n",
        "# Creating plot \n",
        "plt.boxplot(dataSet['Open']) \n",
        "\n",
        "# show plot \n",
        "plt.show()"
      ],
      "metadata": {
        "colab": {
          "base_uri": "https://localhost:8080/",
          "height": 431
        },
        "id": "PFNJrDKq81YO",
        "outputId": "d6e20b37-18d9-4440-94e0-24d509131803"
      },
      "id": "PFNJrDKq81YO",
      "execution_count": 15,
      "outputs": [
        {
          "output_type": "display_data",
          "data": {
            "text/plain": [
              "<Figure size 720x504 with 1 Axes>"
            ],
            "image/png": "[encoded data removed]"
          },
          "metadata": {
            "needs_background": "light"
          }
        }
      ]
    },
    {
      "cell_type": "code",
      "source": [
        "fig, axes = plt.subplots(ncols=len(dataSet.columns), figsize=(20,10))\n",
        "for col, ax in zip(dataSet, axes):\n",
        "    dataSet[col].value_counts().sort_index().plot.bar(ax=ax, title=col)\n",
        "\n",
        "plt.tight_layout()    \n",
        "plt.show()"
      ],
      "metadata": {
        "colab": {
          "base_uri": "https://localhost:8080/",
          "height": 729
        },
        "id": "pc1pPtSSMIXY",
        "outputId": "a6c94d9b-7a42-49bb-c7be-ba128e0e4ef0"
      },
      "id": "pc1pPtSSMIXY",
      "execution_count": 20,
      "outputs": [
        {
          "output_type": "display_data",
          "data": {
            "text/plain": [
              "<Figure size 1440x720 with 6 Axes>"
            ],
            "image/png": "[encoded data removed]"
          },
          "metadata": {
            "needs_background": "light"
          }
        }
      ]
    },
    {
      "cell_type": "code",
      "source": [
        "#produce a summary of data set\n",
        "dataSet.describe()"
      ],
      "metadata": {
        "colab": {
          "base_uri": "https://localhost:8080/",
          "height": 300
        },
        "id": "4JcWMJYkJoot",
        "outputId": "05669143-d965-413b-b380-c1e03664246b"
      },
      "id": "4JcWMJYkJoot",
      "execution_count": 25,
      "outputs": [
        {
          "output_type": "execute_result",
          "data": {
            "text/plain": [
              "              Open         High          Low        Close        Volume\n",
              "count  1692.000000  1692.000000  1692.000000  1692.000000  1.692000e+03\n",
              "mean    132.441572   134.769698   129.996223   132.428658  4.270741e+06\n",
              "std      94.309923    95.694914    92.855227    94.313187  4.295971e+06\n",
              "min      16.139999    16.629999    14.980000    15.800000  1.185000e+05\n",
              "25%      30.000000    30.650000    29.215000    29.884999  1.194350e+06\n",
              "50%     156.334999   162.370002   153.150002   158.160004  3.180700e+06\n",
              "75%     220.557495   224.099999   217.119999   220.022503  5.662100e+06\n",
              "max     287.670013   291.420013   280.399994   286.040009  3.716390e+07"
            ],
            "text/html": [
              "\n",
              "  <div id=\"df-86c913d1-7db2-473c-a610-4a32efa4ba1d\">\n",
              "    <div class=\"colab-df-container\">\n",
              "      <div>\n",
              "<style scoped>\n",
              "    .dataframe tbody tr th:only-of-type {\n",
              "        vertical-align: middle;\n",
              "    }\n",
              "\n",
              "    .dataframe tbody tr th {\n",
              "        vertical-align: top;\n",
              "    }\n",
              "\n",
              "    .dataframe thead th {\n",
              "        text-align: right;\n",
              "    }\n",
              "</style>\n",
              "<table border=\"1\" class=\"dataframe\">\n",
              "  <thead>\n",
              "    <tr style=\"text-align: right;\">\n",
              "      <th></th>\n",
              "      <th>Open</th>\n",
              "      <th>High</th>\n",
              "      <th>Low</th>\n",
              "      <th>Close</th>\n",
              "      <th>Volume</th>\n",
              "    </tr>\n",
              "  </thead>\n",
              "  <tbody>\n",
              "    <tr>\n",
              "      <th>count</th>\n",
              "      <td>1692.000000</td>\n",
              "      <td>1692.000000</td>\n",
              "      <td>1692.000000</td>\n",
              "      <td>1692.000000</td>\n",
              "      <td>1.692000e+03</td>\n",
              "    </tr>\n",
              "    <tr>\n",
              "      <th>mean</th>\n",
              "      <td>132.441572</td>\n",
              "      <td>134.769698</td>\n",
              "      <td>129.996223</td>\n",
              "      <td>132.428658</td>\n",
              "      <td>4.270741e+06</td>\n",
              "    </tr>\n",
              "    <tr>\n",
              "      <th>std</th>\n",
              "      <td>94.309923</td>\n",
              "      <td>95.694914</td>\n",
              "      <td>92.855227</td>\n",
              "      <td>94.313187</td>\n",
              "      <td>4.295971e+06</td>\n",
              "    </tr>\n",
              "    <tr>\n",
              "      <th>min</th>\n",
              "      <td>16.139999</td>\n",
              "      <td>16.629999</td>\n",
              "      <td>14.980000</td>\n",
              "      <td>15.800000</td>\n",
              "      <td>1.185000e+05</td>\n",
              "    </tr>\n",
              "    <tr>\n",
              "      <th>25%</th>\n",
              "      <td>30.000000</td>\n",
              "      <td>30.650000</td>\n",
              "      <td>29.215000</td>\n",
              "      <td>29.884999</td>\n",
              "      <td>1.194350e+06</td>\n",
              "    </tr>\n",
              "    <tr>\n",
              "      <th>50%</th>\n",
              "      <td>156.334999</td>\n",
              "      <td>162.370002</td>\n",
              "      <td>153.150002</td>\n",
              "      <td>158.160004</td>\n",
              "      <td>3.180700e+06</td>\n",
              "    </tr>\n",
              "    <tr>\n",
              "      <th>75%</th>\n",
              "      <td>220.557495</td>\n",
              "      <td>224.099999</td>\n",
              "      <td>217.119999</td>\n",
              "      <td>220.022503</td>\n",
              "      <td>5.662100e+06</td>\n",
              "    </tr>\n",
              "    <tr>\n",
              "      <th>max</th>\n",
              "      <td>287.670013</td>\n",
              "      <td>291.420013</td>\n",
              "      <td>280.399994</td>\n",
              "      <td>286.040009</td>\n",
              "      <td>3.716390e+07</td>\n",
              "    </tr>\n",
              "  </tbody>\n",
              "</table>\n",
              "</div>\n",
              "      <button class=\"colab-df-convert\" onclick=\"convertToInteractive('df-86c913d1-7db2-473c-a610-4a32efa4ba1d')\"\n",
              "              title=\"Convert this dataframe to an interactive table.\"\n",
              "              style=\"display:none;\">\n",
              "        \n",
              "  <svg xmlns=\"http://www.w3.org/2000/svg\" height=\"24px\"viewBox=\"0 0 24 24\"\n",
              "       width=\"24px\">\n",
              "    <path d=\"M0 0h24v24H0V0z\" fill=\"none\"/>\n",
              "    <path d=\"M18.56 5.44l.94 2.06.94-2.06 2.06-.94-2.06-.94-.94-2.06-.94 2.06-2.06.94zm-11 1L8.5 8.5l.94-2.06 2.06-.94-2.06-.94L8.5 2.5l-.94 2.06-2.06.94zm10 10l.94 2.06.94-2.06 2.06-.94-2.06-.94-.94-2.06-.94 2.06-2.06.94z\"/><path d=\"M17.41 7.96l-1.37-1.37c-.4-.4-.92-.59-1.43-.59-.52 0-1.04.2-1.43.59L10.3 9.45l-7.72 7.72c-.78.78-.78 2.05 0 2.83L4 21.41c.39.39.9.59 1.41.59.51 0 1.02-.2 1.41-.59l7.78-7.78 2.81-2.81c.8-.78.8-2.07 0-2.86zM5.41 20L4 18.59l7.72-7.72 1.47 1.35L5.41 20z\"/>\n",
              "  </svg>\n",
              "      </button>\n",
              "      \n",
              "  <style>\n",
              "    .colab-df-container {\n",
              "      display:flex;\n",
              "      flex-wrap:wrap;\n",
              "      gap: 12px;\n",
              "    }\n",
              "\n",
              "    .colab-df-convert {\n",
              "      background-color: #E8F0FE;\n",
              "      border: none;\n",
              "      border-radius: 50%;\n",
              "      cursor: pointer;\n",
              "      display: none;\n",
              "      fill: #1967D2;\n",
              "      height: 32px;\n",
              "      padding: 0 0 0 0;\n",
              "      width: 32px;\n",
              "    }\n",
              "\n",
              "    .colab-df-convert:hover {\n",
              "      background-color: #E2EBFA;\n",
              "      box-shadow: 0px 1px 2px rgba(60, 64, 67, 0.3), 0px 1px 3px 1px rgba(60, 64, 67, 0.15);\n",
              "      fill: #174EA6;\n",
              "    }\n",
              "\n",
              "    [theme=dark] .colab-df-convert {\n",
              "      background-color: #3B4455;\n",
              "      fill: #D2E3FC;\n",
              "    }\n",
              "\n",
              "    [theme=dark] .colab-df-convert:hover {\n",
              "      background-color: #434B5C;\n",
              "      box-shadow: 0px 1px 3px 1px rgba(0, 0, 0, 0.15);\n",
              "      filter: drop-shadow(0px 1px 2px rgba(0, 0, 0, 0.3));\n",
              "      fill: #FFFFFF;\n",
              "    }\n",
              "  </style>\n",
              "\n",
              "      <script>\n",
              "        const buttonEl =\n",
              "          document.querySelector('#df-86c913d1-7db2-473c-a610-4a32efa4ba1d button.colab-df-convert');\n",
              "        buttonEl.style.display =\n",
              "          google.colab.kernel.accessAllowed ? 'block' : 'none';\n",
              "\n",
              "        async function convertToInteractive(key) {\n",
              "          const element = document.querySelector('#df-86c913d1-7db2-473c-a610-4a32efa4ba1d');\n",
              "          const dataTable =\n",
              "            await google.colab.kernel.invokeFunction('convertToInteractive',\n",
              "                                                     [key], {});\n",
              "          if (!dataTable) return;\n",
              "\n",
              "          const docLinkHtml = 'Like what you see? Visit the ' +\n",
              "            '<a target=\"_blank\" href=https://colab.research.google.com/notebooks/data_table.ipynb>data table notebook</a>'\n",
              "            + ' to learn more about interactive tables.';\n",
              "          element.innerHTML = '';\n",
              "          dataTable['output_type'] = 'display_data';\n",
              "          await google.colab.output.renderOutput(dataTable, element);\n",
              "          const docLink = document.createElement('div');\n",
              "          docLink.innerHTML = docLinkHtml;\n",
              "          element.appendChild(docLink);\n",
              "        }\n",
              "      </script>\n",
              "    </div>\n",
              "  </div>\n",
              "  "
            ]
          },
          "metadata": {},
          "execution_count": 25
        }
      ]
    },
    {
      "cell_type": "code",
      "source": [
        "# set date formate \n",
        "dataSet['Date'] = pd.to_datetime(dataSet.Date)"
      ],
      "metadata": {
        "id": "vwtV7kL7omeK"
      },
      "id": "vwtV7kL7omeK",
      "execution_count": 26,
      "outputs": []
    },
    {
      "cell_type": "code",
      "source": [
        "#check data set size \n",
        "dataSet.size"
      ],
      "metadata": {
        "colab": {
          "base_uri": "https://localhost:8080/"
        },
        "id": "7weyGRAfom0f",
        "outputId": "57e71c9d-0e87-4352-b5b3-88518c2ba7d4"
      },
      "id": "7weyGRAfom0f",
      "execution_count": 27,
      "outputs": [
        {
          "output_type": "execute_result",
          "data": {
            "text/plain": [
              "10152"
            ]
          },
          "metadata": {},
          "execution_count": 27
        }
      ]
    },
    {
      "cell_type": "code",
      "source": [
        "#calculate total number of entries and column\n",
        "dataSet.shape"
      ],
      "metadata": {
        "colab": {
          "base_uri": "https://localhost:8080/"
        },
        "id": "oy2lGrniom4i",
        "outputId": "245a59ec-4477-4285-bff7-3f034c5b454e"
      },
      "id": "oy2lGrniom4i",
      "execution_count": 28,
      "outputs": [
        {
          "output_type": "execute_result",
          "data": {
            "text/plain": [
              "(1692, 6)"
            ]
          },
          "metadata": {},
          "execution_count": 28
        }
      ]
    },
    {
      "cell_type": "code",
      "source": [
        "# print the first 30 rows of data set\n",
        "dataSet.head(20)"
      ],
      "metadata": {
        "colab": {
          "base_uri": "https://localhost:8080/",
          "height": 676
        },
        "id": "I4FS_VxlokEE",
        "outputId": "131b9a82-244a-437f-c4aa-261c9958c658"
      },
      "id": "I4FS_VxlokEE",
      "execution_count": 29,
      "outputs": [
        {
          "output_type": "execute_result",
          "data": {
            "text/plain": [
              "         Date       Open       High        Low      Close    Volume\n",
              "0  2010-06-29  19.000000  25.000000  17.540001  23.889999  18766300\n",
              "1  2010-06-30  25.790001  30.420000  23.299999  23.830000  17187100\n",
              "2  2010-07-01  25.000000  25.920000  20.270000  21.959999   8218800\n",
              "3  2010-07-02  23.000000  23.100000  18.709999  19.200001   5139800\n",
              "4  2010-07-06  20.000000  20.000000  15.830000  16.110001   6866900\n",
              "5  2010-07-07  16.400000  16.629999  14.980000  15.800000   6921700\n",
              "6  2010-07-08  16.139999  17.520000  15.570000  17.459999   7711400\n",
              "7  2010-07-09  17.580000  17.900000  16.549999  17.400000   4050600\n",
              "8  2010-07-12  17.950001  18.070000  17.000000  17.049999   2202500\n",
              "9  2010-07-13  17.389999  18.639999  16.900000  18.139999   2680100\n",
              "10 2010-07-14  17.940001  20.150000  17.760000  19.840000   4195200\n",
              "11 2010-07-15  19.940001  21.500000  19.000000  19.889999   3739800\n",
              "12 2010-07-16  20.700001  21.299999  20.049999  20.639999   2621300\n",
              "13 2010-07-19  21.370001  22.250000  20.920000  21.910000   2486500\n",
              "14 2010-07-20  21.850000  21.850000  20.049999  20.299999   1825300\n",
              "15 2010-07-21  20.660000  20.900000  19.500000  20.219999   1252500\n",
              "16 2010-07-22  20.500000  21.250000  20.370001  21.000000    957800\n",
              "17 2010-07-23  21.190001  21.559999  21.059999  21.290001    653600\n",
              "18 2010-07-26  21.500000  21.500000  20.299999  20.950001    922200\n",
              "19 2010-07-27  20.910000  21.180000  20.260000  20.549999    619700"
            ],
            "text/html": [
              "\n",
              "  <div id=\"df-47059e9f-92b5-47d0-9d8d-5e3633ef06d0\">\n",
              "    <div class=\"colab-df-container\">\n",
              "      <div>\n",
              "<style scoped>\n",
              "    .dataframe tbody tr th:only-of-type {\n",
              "        vertical-align: middle;\n",
              "    }\n",
              "\n",
              "    .dataframe tbody tr th {\n",
              "        vertical-align: top;\n",
              "    }\n",
              "\n",
              "    .dataframe thead th {\n",
              "        text-align: right;\n",
              "    }\n",
              "</style>\n",
              "<table border=\"1\" class=\"dataframe\">\n",
              "  <thead>\n",
              "    <tr style=\"text-align: right;\">\n",
              "      <th></th>\n",
              "      <th>Date</th>\n",
              "      <th>Open</th>\n",
              "      <th>High</th>\n",
              "      <th>Low</th>\n",
              "      <th>Close</th>\n",
              "      <th>Volume</th>\n",
              "    </tr>\n",
              "  </thead>\n",
              "  <tbody>\n",
              "    <tr>\n",
              "      <th>0</th>\n",
              "      <td>2010-06-29</td>\n",
              "      <td>19.000000</td>\n",
              "      <td>25.000000</td>\n",
              "      <td>17.540001</td>\n",
              "      <td>23.889999</td>\n",
              "      <td>18766300</td>\n",
              "    </tr>\n",
              "    <tr>\n",
              "      <th>1</th>\n",
              "      <td>2010-06-30</td>\n",
              "      <td>25.790001</td>\n",
              "      <td>30.420000</td>\n",
              "      <td>23.299999</td>\n",
              "      <td>23.830000</td>\n",
              "      <td>17187100</td>\n",
              "    </tr>\n",
              "    <tr>\n",
              "      <th>2</th>\n",
              "      <td>2010-07-01</td>\n",
              "      <td>25.000000</td>\n",
              "      <td>25.920000</td>\n",
              "      <td>20.270000</td>\n",
              "      <td>21.959999</td>\n",
              "      <td>8218800</td>\n",
              "    </tr>\n",
              "    <tr>\n",
              "      <th>3</th>\n",
              "      <td>2010-07-02</td>\n",
              "      <td>23.000000</td>\n",
              "      <td>23.100000</td>\n",
              "      <td>18.709999</td>\n",
              "      <td>19.200001</td>\n",
              "      <td>5139800</td>\n",
              "    </tr>\n",
              "    <tr>\n",
              "      <th>4</th>\n",
              "      <td>2010-07-06</td>\n",
              "      <td>20.000000</td>\n",
              "      <td>20.000000</td>\n",
              "      <td>15.830000</td>\n",
              "      <td>16.110001</td>\n",
              "      <td>6866900</td>\n",
              "    </tr>\n",
              "    <tr>\n",
              "      <th>5</th>\n",
              "      <td>2010-07-07</td>\n",
              "      <td>16.400000</td>\n",
              "      <td>16.629999</td>\n",
              "      <td>14.980000</td>\n",
              "      <td>15.800000</td>\n",
              "      <td>6921700</td>\n",
              "    </tr>\n",
              "    <tr>\n",
              "      <th>6</th>\n",
              "      <td>2010-07-08</td>\n",
              "      <td>16.139999</td>\n",
              "      <td>17.520000</td>\n",
              "      <td>15.570000</td>\n",
              "      <td>17.459999</td>\n",
              "      <td>7711400</td>\n",
              "    </tr>\n",
              "    <tr>\n",
              "      <th>7</th>\n",
              "      <td>2010-07-09</td>\n",
              "      <td>17.580000</td>\n",
              "      <td>17.900000</td>\n",
              "      <td>16.549999</td>\n",
              "      <td>17.400000</td>\n",
              "      <td>4050600</td>\n",
              "    </tr>\n",
              "    <tr>\n",
              "      <th>8</th>\n",
              "      <td>2010-07-12</td>\n",
              "      <td>17.950001</td>\n",
              "      <td>18.070000</td>\n",
              "      <td>17.000000</td>\n",
              "      <td>17.049999</td>\n",
              "      <td>2202500</td>\n",
              "    </tr>\n",
              "    <tr>\n",
              "      <th>9</th>\n",
              "      <td>2010-07-13</td>\n",
              "      <td>17.389999</td>\n",
              "      <td>18.639999</td>\n",
              "      <td>16.900000</td>\n",
              "      <td>18.139999</td>\n",
              "      <td>2680100</td>\n",
              "    </tr>\n",
              "    <tr>\n",
              "      <th>10</th>\n",
              "      <td>2010-07-14</td>\n",
              "      <td>17.940001</td>\n",
              "      <td>20.150000</td>\n",
              "      <td>17.760000</td>\n",
              "      <td>19.840000</td>\n",
              "      <td>4195200</td>\n",
              "    </tr>\n",
              "    <tr>\n",
              "      <th>11</th>\n",
              "      <td>2010-07-15</td>\n",
              "      <td>19.940001</td>\n",
              "      <td>21.500000</td>\n",
              "      <td>19.000000</td>\n",
              "      <td>19.889999</td>\n",
              "      <td>3739800</td>\n",
              "    </tr>\n",
              "    <tr>\n",
              "      <th>12</th>\n",
              "      <td>2010-07-16</td>\n",
              "      <td>20.700001</td>\n",
              "      <td>21.299999</td>\n",
              "      <td>20.049999</td>\n",
              "      <td>20.639999</td>\n",
              "      <td>2621300</td>\n",
              "    </tr>\n",
              "    <tr>\n",
              "      <th>13</th>\n",
              "      <td>2010-07-19</td>\n",
              "      <td>21.370001</td>\n",
              "      <td>22.250000</td>\n",
              "      <td>20.920000</td>\n",
              "      <td>21.910000</td>\n",
              "      <td>2486500</td>\n",
              "    </tr>\n",
              "    <tr>\n",
              "      <th>14</th>\n",
              "      <td>2010-07-20</td>\n",
              "      <td>21.850000</td>\n",
              "      <td>21.850000</td>\n",
              "      <td>20.049999</td>\n",
              "      <td>20.299999</td>\n",
              "      <td>1825300</td>\n",
              "    </tr>\n",
              "    <tr>\n",
              "      <th>15</th>\n",
              "      <td>2010-07-21</td>\n",
              "      <td>20.660000</td>\n",
              "      <td>20.900000</td>\n",
              "      <td>19.500000</td>\n",
              "      <td>20.219999</td>\n",
              "      <td>1252500</td>\n",
              "    </tr>\n",
              "    <tr>\n",
              "      <th>16</th>\n",
              "      <td>2010-07-22</td>\n",
              "      <td>20.500000</td>\n",
              "      <td>21.250000</td>\n",
              "      <td>20.370001</td>\n",
              "      <td>21.000000</td>\n",
              "      <td>957800</td>\n",
              "    </tr>\n",
              "    <tr>\n",
              "      <th>17</th>\n",
              "      <td>2010-07-23</td>\n",
              "      <td>21.190001</td>\n",
              "      <td>21.559999</td>\n",
              "      <td>21.059999</td>\n",
              "      <td>21.290001</td>\n",
              "      <td>653600</td>\n",
              "    </tr>\n",
              "    <tr>\n",
              "      <th>18</th>\n",
              "      <td>2010-07-26</td>\n",
              "      <td>21.500000</td>\n",
              "      <td>21.500000</td>\n",
              "      <td>20.299999</td>\n",
              "      <td>20.950001</td>\n",
              "      <td>922200</td>\n",
              "    </tr>\n",
              "    <tr>\n",
              "      <th>19</th>\n",
              "      <td>2010-07-27</td>\n",
              "      <td>20.910000</td>\n",
              "      <td>21.180000</td>\n",
              "      <td>20.260000</td>\n",
              "      <td>20.549999</td>\n",
              "      <td>619700</td>\n",
              "    </tr>\n",
              "  </tbody>\n",
              "</table>\n",
              "</div>\n",
              "      <button class=\"colab-df-convert\" onclick=\"convertToInteractive('df-47059e9f-92b5-47d0-9d8d-5e3633ef06d0')\"\n",
              "              title=\"Convert this dataframe to an interactive table.\"\n",
              "              style=\"display:none;\">\n",
              "        \n",
              "  <svg xmlns=\"http://www.w3.org/2000/svg\" height=\"24px\"viewBox=\"0 0 24 24\"\n",
              "       width=\"24px\">\n",
              "    <path d=\"M0 0h24v24H0V0z\" fill=\"none\"/>\n",
              "    <path d=\"M18.56 5.44l.94 2.06.94-2.06 2.06-.94-2.06-.94-.94-2.06-.94 2.06-2.06.94zm-11 1L8.5 8.5l.94-2.06 2.06-.94-2.06-.94L8.5 2.5l-.94 2.06-2.06.94zm10 10l.94 2.06.94-2.06 2.06-.94-2.06-.94-.94-2.06-.94 2.06-2.06.94z\"/><path d=\"M17.41 7.96l-1.37-1.37c-.4-.4-.92-.59-1.43-.59-.52 0-1.04.2-1.43.59L10.3 9.45l-7.72 7.72c-.78.78-.78 2.05 0 2.83L4 21.41c.39.39.9.59 1.41.59.51 0 1.02-.2 1.41-.59l7.78-7.78 2.81-2.81c.8-.78.8-2.07 0-2.86zM5.41 20L4 18.59l7.72-7.72 1.47 1.35L5.41 20z\"/>\n",
              "  </svg>\n",
              "      </button>\n",
              "      \n",
              "  <style>\n",
              "    .colab-df-container {\n",
              "      display:flex;\n",
              "      flex-wrap:wrap;\n",
              "      gap: 12px;\n",
              "    }\n",
              "\n",
              "    .colab-df-convert {\n",
              "      background-color: #E8F0FE;\n",
              "      border: none;\n",
              "      border-radius: 50%;\n",
              "      cursor: pointer;\n",
              "      display: none;\n",
              "      fill: #1967D2;\n",
              "      height: 32px;\n",
              "      padding: 0 0 0 0;\n",
              "      width: 32px;\n",
              "    }\n",
              "\n",
              "    .colab-df-convert:hover {\n",
              "      background-color: #E2EBFA;\n",
              "      box-shadow: 0px 1px 2px rgba(60, 64, 67, 0.3), 0px 1px 3px 1px rgba(60, 64, 67, 0.15);\n",
              "      fill: #174EA6;\n",
              "    }\n",
              "\n",
              "    [theme=dark] .colab-df-convert {\n",
              "      background-color: #3B4455;\n",
              "      fill: #D2E3FC;\n",
              "    }\n",
              "\n",
              "    [theme=dark] .colab-df-convert:hover {\n",
              "      background-color: #434B5C;\n",
              "      box-shadow: 0px 1px 3px 1px rgba(0, 0, 0, 0.15);\n",
              "      filter: drop-shadow(0px 1px 2px rgba(0, 0, 0, 0.3));\n",
              "      fill: #FFFFFF;\n",
              "    }\n",
              "  </style>\n",
              "\n",
              "      <script>\n",
              "        const buttonEl =\n",
              "          document.querySelector('#df-47059e9f-92b5-47d0-9d8d-5e3633ef06d0 button.colab-df-convert');\n",
              "        buttonEl.style.display =\n",
              "          google.colab.kernel.accessAllowed ? 'block' : 'none';\n",
              "\n",
              "        async function convertToInteractive(key) {\n",
              "          const element = document.querySelector('#df-47059e9f-92b5-47d0-9d8d-5e3633ef06d0');\n",
              "          const dataTable =\n",
              "            await google.colab.kernel.invokeFunction('convertToInteractive',\n",
              "                                                     [key], {});\n",
              "          if (!dataTable) return;\n",
              "\n",
              "          const docLinkHtml = 'Like what you see? Visit the ' +\n",
              "            '<a target=\"_blank\" href=https://colab.research.google.com/notebooks/data_table.ipynb>data table notebook</a>'\n",
              "            + ' to learn more about interactive tables.';\n",
              "          element.innerHTML = '';\n",
              "          dataTable['output_type'] = 'display_data';\n",
              "          await google.colab.output.renderOutput(dataTable, element);\n",
              "          const docLink = document.createElement('div');\n",
              "          docLink.innerHTML = docLinkHtml;\n",
              "          element.appendChild(docLink);\n",
              "        }\n",
              "      </script>\n",
              "    </div>\n",
              "  </div>\n",
              "  "
            ]
          },
          "metadata": {},
          "execution_count": 29
        }
      ]
    },
    {
      "cell_type": "code",
      "source": [
        "#prints information about the DataFrame\n",
        "dataSet.info()"
      ],
      "metadata": {
        "colab": {
          "base_uri": "https://localhost:8080/"
        },
        "id": "Jf1rJ612qPpC",
        "outputId": "c308df4c-aa47-4120-9a60-803394d3bb5a"
      },
      "id": "Jf1rJ612qPpC",
      "execution_count": 30,
      "outputs": [
        {
          "output_type": "stream",
          "name": "stdout",
          "text": [
            "<class 'pandas.core.frame.DataFrame'>\n",
            "RangeIndex: 1692 entries, 0 to 1691\n",
            "Data columns (total 6 columns):\n",
            " #   Column  Non-Null Count  Dtype         \n",
            "---  ------  --------------  -----         \n",
            " 0   Date    1692 non-null   datetime64[ns]\n",
            " 1   Open    1692 non-null   float64       \n",
            " 2   High    1692 non-null   float64       \n",
            " 3   Low     1692 non-null   float64       \n",
            " 4   Close   1692 non-null   float64       \n",
            " 5   Volume  1692 non-null   int64         \n",
            "dtypes: datetime64[ns](1), float64(4), int64(1)\n",
            "memory usage: 79.4 KB\n"
          ]
        }
      ]
    },
    {
      "cell_type": "code",
      "source": [
        "dataSet['Open'].plot(figsize=(20,10))"
      ],
      "metadata": {
        "colab": {
          "base_uri": "https://localhost:8080/",
          "height": 612
        },
        "id": "LYk04rGeqPs7",
        "outputId": "add3dd85-eab4-4074-d74d-01baa7625d09"
      },
      "id": "LYk04rGeqPs7",
      "execution_count": 31,
      "outputs": [
        {
          "output_type": "execute_result",
          "data": {
            "text/plain": [
              "<matplotlib.axes._subplots.AxesSubplot at 0x7f967c25ded0>"
            ]
          },
          "metadata": {},
          "execution_count": 31
        },
        {
          "output_type": "display_data",
          "data": {
            "text/plain": [
              "<Figure size 1440x720 with 1 Axes>"
            ],
            "image/png": "[encoded data removed]"
          },
          "metadata": {
            "needs_background": "light"
          }
        }
      ]
    },
    {
      "cell_type": "code",
      "source": [
        "#create two data set for independant and dependant variabels \n",
        "x = dataSet[['Open','High','Low','Volume']]\n",
        "y = dataSet['Close']"
      ],
      "metadata": {
        "id": "uvOmwXTUr8e9"
      },
      "id": "uvOmwXTUr8e9",
      "execution_count": 32,
      "outputs": []
    },
    {
      "cell_type": "code",
      "source": [
        "#split data set into  training annd testing  randomly \n",
        "X_train, X_test, Y_train, Y_test =  train_test_split(x ,y ,random_state=0)"
      ],
      "metadata": {
        "id": "D0ryD0Ycs5RK"
      },
      "id": "D0ryD0Ycs5RK",
      "execution_count": 33,
      "outputs": []
    },
    {
      "cell_type": "code",
      "source": [
        "#get length of training set\n",
        "len(X_train)"
      ],
      "metadata": {
        "colab": {
          "base_uri": "https://localhost:8080/"
        },
        "id": "YjEMDt2muyVY",
        "outputId": "569d696f-e022-4634-a31a-1c71f2fa12da"
      },
      "id": "YjEMDt2muyVY",
      "execution_count": 34,
      "outputs": [
        {
          "output_type": "execute_result",
          "data": {
            "text/plain": [
              "1269"
            ]
          },
          "metadata": {},
          "execution_count": 34
        }
      ]
    },
    {
      "cell_type": "code",
      "source": [
        "#get length of testing set\n",
        "len(X_test)"
      ],
      "metadata": {
        "colab": {
          "base_uri": "https://localhost:8080/"
        },
        "id": "oUmMcyogu9O8",
        "outputId": "4ad78131-119f-444d-fdde-a5b3aefce5e4"
      },
      "id": "oUmMcyogu9O8",
      "execution_count": 35,
      "outputs": [
        {
          "output_type": "execute_result",
          "data": {
            "text/plain": [
              "423"
            ]
          },
          "metadata": {},
          "execution_count": 35
        }
      ]
    },
    {
      "cell_type": "code",
      "source": [
        "#imprt regression model\n",
        "from sklearn.linear_model import LinearRegression\n",
        "from sklearn.metrics import confusion_matrix, accuracy_score\n",
        "reg = LinearRegression()"
      ],
      "metadata": {
        "id": "WdW7MTc1u9af"
      },
      "id": "WdW7MTc1u9af",
      "execution_count": 36,
      "outputs": []
    },
    {
      "cell_type": "code",
      "source": [
        "#fit the model with data \n",
        "reg.fit(X_train, Y_train)"
      ],
      "metadata": {
        "colab": {
          "base_uri": "https://localhost:8080/"
        },
        "id": "tA2vodw3v0eP",
        "outputId": "d3eca1ca-60d3-470d-ee75-e856884411f6"
      },
      "id": "tA2vodw3v0eP",
      "execution_count": 37,
      "outputs": [
        {
          "output_type": "execute_result",
          "data": {
            "text/plain": [
              "LinearRegression()"
            ]
          },
          "metadata": {},
          "execution_count": 37
        }
      ]
    },
    {
      "cell_type": "code",
      "source": [
        "#predict the price using the trained model\n",
        "predict_price = reg.predict(X_test)"
      ],
      "metadata": {
        "id": "VG9bG8Uvv0rY"
      },
      "id": "VG9bG8Uvv0rY",
      "execution_count": 38,
      "outputs": []
    },
    {
      "cell_type": "code",
      "source": [
        "from sklearn.metrics import r2_score"
      ],
      "metadata": {
        "id": "YhpMRY_nRd5C"
      },
      "id": "YhpMRY_nRd5C",
      "execution_count": 39,
      "outputs": []
    },
    {
      "cell_type": "code",
      "source": [
        "r2_score(Y_test, predict_price)"
      ],
      "metadata": {
        "colab": {
          "base_uri": "https://localhost:8080/"
        },
        "id": "QAGXTJsuRn4_",
        "outputId": "f5d6fa42-e92d-4e6f-e727-d5b0c6e7ae24"
      },
      "id": "QAGXTJsuRn4_",
      "execution_count": 40,
      "outputs": [
        {
          "output_type": "execute_result",
          "data": {
            "text/plain": [
              "0.999703484441961"
            ]
          },
          "metadata": {},
          "execution_count": 40
        }
      ]
    },
    {
      "cell_type": "code",
      "source": [
        "predict_price, Y_test"
      ],
      "metadata": {
        "colab": {
          "base_uri": "https://localhost:8080/"
        },
        "id": "ok7UQhs2RoQI",
        "outputId": "00f88ce5-1966-4592-af11-793244eabc49"
      },
      "id": "ok7UQhs2RoQI",
      "execution_count": 42,
      "outputs": [
        {
          "output_type": "execute_result",
          "data": {
            "text/plain": [
              "(array([ 31.25357388, 255.654999  , 202.53238354,  16.68989363,\n",
              "        265.42928013,  34.06133962,  28.00010227,  34.93307051,\n",
              "         28.22904253, 243.62075478, 203.93297398, 140.71359012,\n",
              "        200.6293055 , 185.1064507 , 220.68965027, 267.09075276,\n",
              "         45.08916367,  35.9598045 , 220.30706633, 221.87946873,\n",
              "         22.88775466, 119.55607168, 205.28565468,  26.88940097,\n",
              "         34.76771998, 193.16075835,  33.21114752,  19.20423215,\n",
              "        227.17996184, 219.21889721, 201.25779081, 177.96058666,\n",
              "        177.08879439,  24.6447809 , 237.45117492,  29.10773585,\n",
              "         28.02008386,  33.12628952,  32.55665566,  33.79729393,\n",
              "         20.78717641,  98.81572601, 216.69610021,  31.56811584,\n",
              "         24.04301139,  25.40905446,  28.7300207 ,  30.69660973,\n",
              "        190.20464301, 157.36969464,  33.2211424 , 282.1000907 ,\n",
              "         29.6591842 , 202.11464514,  28.50145567, 121.31505779,\n",
              "        217.02682616, 236.47705373, 197.21689402,  21.41304625,\n",
              "        182.25745982,  33.29531692, 155.48079594,  20.49895791,\n",
              "        250.96391578,  20.44418002, 205.38526039, 249.35922716,\n",
              "        254.98066366,  35.36638766, 216.27086772, 264.74860932,\n",
              "         20.61547744, 122.95529508, 253.02240498, 230.13531907,\n",
              "         26.25516904,  29.1200505 , 245.69360696,  22.69567012,\n",
              "         31.0087553 , 219.54757779, 168.74652119,  29.63855081,\n",
              "         30.18822239,  31.5309082 , 226.21667589, 249.49905122,\n",
              "         35.25253103, 216.76815861,  45.12442052,  29.42761268,\n",
              "         37.65911126, 231.5162154 , 264.16029679, 119.94568614,\n",
              "        206.16592747, 200.74601435, 225.36640656, 145.55928803,\n",
              "        164.74312171, 202.33016809, 232.4989367 ,  23.21201916,\n",
              "         35.14693604, 282.00772762, 267.72960882,  19.41616258,\n",
              "        213.86278351, 177.00013457,  87.1201973 , 194.95624013,\n",
              "        253.50091068,  28.56108465,  35.08149994,  26.046626  ,\n",
              "         29.4517809 ,  28.44113789, 265.77907412,  28.02794539,\n",
              "         32.64946055,  28.51449038,  28.65391117,  52.24782813,\n",
              "        201.21651963,  15.39637928,  21.27585754, 205.73634809,\n",
              "        187.94523391,  33.73494857,  31.83418151,  34.02649267,\n",
              "        238.84889684,  28.92061824, 215.95333296,  24.53710977,\n",
              "        184.02044223,  33.37684455, 218.23895764, 228.940453  ,\n",
              "        265.63653001, 183.32652332,  39.15640354, 263.69979794,\n",
              "        102.59033823,  20.66184035, 264.4124516 , 227.68738066,\n",
              "         21.68605322, 194.26153999, 244.57535363, 212.22656923,\n",
              "        208.96988084, 233.88346504,  18.01505848, 142.6069175 ,\n",
              "        202.56922991, 213.05584151,  31.78386206,  95.28557784,\n",
              "         31.46211445, 210.58321969,  20.84125674, 200.63424317,\n",
              "        240.39473667, 246.68933358, 260.14340714,  38.90895911,\n",
              "         27.57880911,  20.47014636,  21.18301265, 232.46806595,\n",
              "         24.57519219,  96.20941592,  32.46729744,  24.22980235,\n",
              "        203.7708561 ,  33.19105276, 172.5989062 , 254.96100617,\n",
              "         21.40800536,  37.33216011, 221.63712946,  20.62745048,\n",
              "        220.90680489, 189.47601151, 206.63099542,  28.52776383,\n",
              "         39.31114467, 175.61874597, 276.91196834, 220.47554542,\n",
              "         23.1399813 ,  25.42553185,  23.60772438,  27.65950745,\n",
              "        250.57874075, 135.64400699, 248.66980843, 245.34030523,\n",
              "        237.19420453, 183.43809555, 188.87172771, 227.46954742,\n",
              "         82.82657692, 204.93145746, 248.12840855, 204.6374737 ,\n",
              "        251.96795451,  27.7114324 ,  36.69838414, 118.57867264,\n",
              "         28.1207825 ,  37.17262434, 244.01894249, 213.38780114,\n",
              "         28.04912109, 154.22148744, 166.61967516, 235.09389479,\n",
              "        217.02027745, 214.83457882, 200.73568092,  28.86856205,\n",
              "         24.27576749,  39.66388985, 211.56996023,  29.83329864,\n",
              "        228.05504573, 230.01673207, 258.08339173, 219.6781372 ,\n",
              "        203.43227144,  16.771326  ,  24.82016386, 167.86250832,\n",
              "         23.40276805,  31.18956565,  31.74580666,  27.85028599,\n",
              "        188.67715726, 236.11443012,  34.9904734 , 232.56983426,\n",
              "        279.10746733,  34.77290479,  31.65659669,  31.21335682,\n",
              "        188.71111319, 203.58554952, 237.66462821,  27.33485995,\n",
              "        243.42968562, 242.30146166,  22.93643391,  33.57643361,\n",
              "         17.58950182,  56.00856206, 211.87631665, 270.0757575 ,\n",
              "         30.88555933, 198.29216794, 220.01826507, 211.84953377,\n",
              "         38.35001541,  33.40319491,  34.15872913, 202.07571697,\n",
              "        211.5120746 , 239.86384007,  22.20945713, 247.01122786,\n",
              "         33.39443696, 219.09805534, 256.51298099,  23.94418056,\n",
              "        233.9922818 ,  37.24167151, 210.88814884, 272.59174014,\n",
              "        194.23061546, 262.98072951, 149.42067892, 195.86240972,\n",
              "         35.21803238, 248.46455378, 103.2625577 , 199.2762893 ,\n",
              "        254.3455008 , 196.67716987,  24.43318318, 221.65272841,\n",
              "         28.79224673,  26.88281151,  28.35261915,  27.30981119,\n",
              "        228.40905048, 240.78028603,  31.25294545,  29.18286662,\n",
              "         27.73797238, 221.85406802,  27.35158664,  28.21073325,\n",
              "         28.40859695,  26.92196768, 249.28735302, 216.60921241,\n",
              "         32.81646661,  89.92515835,  25.86353251, 235.67232762,\n",
              "         27.82527366, 199.48864882, 205.08220395,  86.01192756,\n",
              "        223.44503028,  24.10629849,  27.74921428,  25.90909441,\n",
              "        247.70178286, 173.35053843,  29.22573744,  31.43347396,\n",
              "        267.53212553,  24.19749284,  23.11523591, 212.75472389,\n",
              "        128.12663427, 203.6882029 , 105.59218807,  26.50215759,\n",
              "         29.03564244,  24.14026646, 184.55488785, 237.79292807,\n",
              "        167.34430839,  29.35043205, 236.60494864, 198.0118626 ,\n",
              "         19.93220197, 269.81981457,  20.49808183, 123.46581751,\n",
              "        100.79372483,  19.93776002, 126.16184466, 259.70051381,\n",
              "         23.73251556,  29.54678682,  34.39293903,  34.12840891,\n",
              "         33.51483848, 209.90263055,  38.28486845,  33.60521796,\n",
              "        192.61900377,  19.72873005, 219.17214651, 249.33255435,\n",
              "         22.77009114, 150.20680322,  28.47048518, 240.32805727,\n",
              "         27.30489699,  32.30776961, 118.89609505, 197.39002253,\n",
              "        209.57037961, 166.38644255, 270.30554699,  22.07640421,\n",
              "        236.75139522, 214.35832441, 218.62104866, 166.17832099,\n",
              "        202.42442186,  36.56951875,  27.64437595,  27.7828414 ,\n",
              "         34.41947705, 221.02837165, 269.09101216,  29.25398718,\n",
              "         27.20576358, 166.32155839, 231.72886747,  30.09162695,\n",
              "        235.50935049,  29.91975427,  23.50583032,  34.51877836,\n",
              "        201.41250077,  34.00562446, 259.68288916, 193.40561345,\n",
              "        243.66766558,  27.34873908, 177.40886113, 191.37220086,\n",
              "        204.1417318 ,  28.63062956,  20.86945988,  39.24589882,\n",
              "        142.82100083, 217.23626043, 200.64814965, 154.60787617,\n",
              "        176.73554121, 200.28092538,  96.15081834, 252.78527363,\n",
              "        210.55632625,  29.09596352, 101.40873687, 242.34119144,\n",
              "        254.52111369,  20.4192964 , 233.68581789,  26.62892832,\n",
              "         30.57611212, 201.2940513 , 223.7407765 ]), 124      30.090000\n",
              " 1688    258.000000\n",
              " 1397    204.990005\n",
              " 6        17.459999\n",
              " 1279    263.820007\n",
              "            ...    \n",
              " 1222    236.800003\n",
              " 215      26.440001\n",
              " 536      31.170000\n",
              " 1630    202.490005\n",
              " 1548    222.929993\n",
              " Name: Close, Length: 423, dtype: float64)"
            ]
          },
          "metadata": {},
          "execution_count": 42
        }
      ]
    },
    {
      "cell_type": "code",
      "source": [
        "print(X_test)"
      ],
      "metadata": {
        "colab": {
          "base_uri": "https://localhost:8080/"
        },
        "id": "dA2piPKEwjot",
        "outputId": "4d2358ce-3435-4582-e797-7c03f73212cc"
      },
      "id": "dA2piPKEwjot",
      "execution_count": 43,
      "outputs": [
        {
          "output_type": "stream",
          "name": "stdout",
          "text": [
            "            Open        High         Low   Volume\n",
            "124    31.260000   32.480000   29.920000  1552600\n",
            "1688  246.110001  258.119995  246.020004  7575500\n",
            "1397  198.970001  205.070007  197.250000  5322200\n",
            "6      16.139999   17.520000   15.570000  7711400\n",
            "1279  264.269989  267.890015  262.000000  2790100\n",
            "...          ...         ...         ...      ...\n",
            "1222  221.000000  237.479996  220.250000  9455900\n",
            "215    27.200001   27.440001   26.170000  1218500\n",
            "536    29.690001   31.299999   29.100000   870100\n",
            "1630  198.080002  202.589996  197.600006  3796900\n",
            "1548  224.169998  225.110001  222.679993  2065500\n",
            "\n",
            "[423 rows x 4 columns]\n"
          ]
        }
      ]
    },
    {
      "cell_type": "code",
      "source": [
        "dataFrame = pd.DataFrame(Y_test,predict_price)"
      ],
      "metadata": {
        "id": "GxkrXSKgwkAD"
      },
      "id": "GxkrXSKgwkAD",
      "execution_count": 44,
      "outputs": []
    },
    {
      "cell_type": "code",
      "source": [
        "dataFrame"
      ],
      "metadata": {
        "colab": {
          "base_uri": "https://localhost:8080/",
          "height": 424
        },
        "id": "AYin7LLNdlUW",
        "outputId": "14460f16-03ff-4461-d91a-beb4f650f9c3"
      },
      "id": "AYin7LLNdlUW",
      "execution_count": 45,
      "outputs": [
        {
          "output_type": "execute_result",
          "data": {
            "text/plain": [
              "            Close\n",
              "31.253574     NaN\n",
              "255.654999    NaN\n",
              "202.532384    NaN\n",
              "16.689894     NaN\n",
              "265.429280    NaN\n",
              "...           ...\n",
              "233.685818    NaN\n",
              "26.628928     NaN\n",
              "30.576112     NaN\n",
              "201.294051    NaN\n",
              "223.740777    NaN\n",
              "\n",
              "[423 rows x 1 columns]"
            ],
            "text/html": [
              "\n",
              "  <div id=\"df-6845a3d0-ff2f-4be6-92dd-a4f102533902\">\n",
              "    <div class=\"colab-df-container\">\n",
              "      <div>\n",
              "<style scoped>\n",
              "    .dataframe tbody tr th:only-of-type {\n",
              "        vertical-align: middle;\n",
              "    }\n",
              "\n",
              "    .dataframe tbody tr th {\n",
              "        vertical-align: top;\n",
              "    }\n",
              "\n",
              "    .dataframe thead th {\n",
              "        text-align: right;\n",
              "    }\n",
              "</style>\n",
              "<table border=\"1\" class=\"dataframe\">\n",
              "  <thead>\n",
              "    <tr style=\"text-align: right;\">\n",
              "      <th></th>\n",
              "      <th>Close</th>\n",
              "    </tr>\n",
              "  </thead>\n",
              "  <tbody>\n",
              "    <tr>\n",
              "      <th>31.253574</th>\n",
              "      <td>NaN</td>\n",
              "    </tr>\n",
              "    <tr>\n",
              "      <th>255.654999</th>\n",
              "      <td>NaN</td>\n",
              "    </tr>\n",
              "    <tr>\n",
              "      <th>202.532384</th>\n",
              "      <td>NaN</td>\n",
              "    </tr>\n",
              "    <tr>\n",
              "      <th>16.689894</th>\n",
              "      <td>NaN</td>\n",
              "    </tr>\n",
              "    <tr>\n",
              "      <th>265.429280</th>\n",
              "      <td>NaN</td>\n",
              "    </tr>\n",
              "    <tr>\n",
              "      <th>...</th>\n",
              "      <td>...</td>\n",
              "    </tr>\n",
              "    <tr>\n",
              "      <th>233.685818</th>\n",
              "      <td>NaN</td>\n",
              "    </tr>\n",
              "    <tr>\n",
              "      <th>26.628928</th>\n",
              "      <td>NaN</td>\n",
              "    </tr>\n",
              "    <tr>\n",
              "      <th>30.576112</th>\n",
              "      <td>NaN</td>\n",
              "    </tr>\n",
              "    <tr>\n",
              "      <th>201.294051</th>\n",
              "      <td>NaN</td>\n",
              "    </tr>\n",
              "    <tr>\n",
              "      <th>223.740777</th>\n",
              "      <td>NaN</td>\n",
              "    </tr>\n",
              "  </tbody>\n",
              "</table>\n",
              "<p>423 rows × 1 columns</p>\n",
              "</div>\n",
              "      <button class=\"colab-df-convert\" onclick=\"convertToInteractive('df-6845a3d0-ff2f-4be6-92dd-a4f102533902')\"\n",
              "              title=\"Convert this dataframe to an interactive table.\"\n",
              "              style=\"display:none;\">\n",
              "        \n",
              "  <svg xmlns=\"http://www.w3.org/2000/svg\" height=\"24px\"viewBox=\"0 0 24 24\"\n",
              "       width=\"24px\">\n",
              "    <path d=\"M0 0h24v24H0V0z\" fill=\"none\"/>\n",
              "    <path d=\"M18.56 5.44l.94 2.06.94-2.06 2.06-.94-2.06-.94-.94-2.06-.94 2.06-2.06.94zm-11 1L8.5 8.5l.94-2.06 2.06-.94-2.06-.94L8.5 2.5l-.94 2.06-2.06.94zm10 10l.94 2.06.94-2.06 2.06-.94-2.06-.94-.94-2.06-.94 2.06-2.06.94z\"/><path d=\"M17.41 7.96l-1.37-1.37c-.4-.4-.92-.59-1.43-.59-.52 0-1.04.2-1.43.59L10.3 9.45l-7.72 7.72c-.78.78-.78 2.05 0 2.83L4 21.41c.39.39.9.59 1.41.59.51 0 1.02-.2 1.41-.59l7.78-7.78 2.81-2.81c.8-.78.8-2.07 0-2.86zM5.41 20L4 18.59l7.72-7.72 1.47 1.35L5.41 20z\"/>\n",
              "  </svg>\n",
              "      </button>\n",
              "      \n",
              "  <style>\n",
              "    .colab-df-container {\n",
              "      display:flex;\n",
              "      flex-wrap:wrap;\n",
              "      gap: 12px;\n",
              "    }\n",
              "\n",
              "    .colab-df-convert {\n",
              "      background-color: #E8F0FE;\n",
              "      border: none;\n",
              "      border-radius: 50%;\n",
              "      cursor: pointer;\n",
              "      display: none;\n",
              "      fill: #1967D2;\n",
              "      height: 32px;\n",
              "      padding: 0 0 0 0;\n",
              "      width: 32px;\n",
              "    }\n",
              "\n",
              "    .colab-df-convert:hover {\n",
              "      background-color: #E2EBFA;\n",
              "      box-shadow: 0px 1px 2px rgba(60, 64, 67, 0.3), 0px 1px 3px 1px rgba(60, 64, 67, 0.15);\n",
              "      fill: #174EA6;\n",
              "    }\n",
              "\n",
              "    [theme=dark] .colab-df-convert {\n",
              "      background-color: #3B4455;\n",
              "      fill: #D2E3FC;\n",
              "    }\n",
              "\n",
              "    [theme=dark] .colab-df-convert:hover {\n",
              "      background-color: #434B5C;\n",
              "      box-shadow: 0px 1px 3px 1px rgba(0, 0, 0, 0.15);\n",
              "      filter: drop-shadow(0px 1px 2px rgba(0, 0, 0, 0.3));\n",
              "      fill: #FFFFFF;\n",
              "    }\n",
              "  </style>\n",
              "\n",
              "      <script>\n",
              "        const buttonEl =\n",
              "          document.querySelector('#df-6845a3d0-ff2f-4be6-92dd-a4f102533902 button.colab-df-convert');\n",
              "        buttonEl.style.display =\n",
              "          google.colab.kernel.accessAllowed ? 'block' : 'none';\n",
              "\n",
              "        async function convertToInteractive(key) {\n",
              "          const element = document.querySelector('#df-6845a3d0-ff2f-4be6-92dd-a4f102533902');\n",
              "          const dataTable =\n",
              "            await google.colab.kernel.invokeFunction('convertToInteractive',\n",
              "                                                     [key], {});\n",
              "          if (!dataTable) return;\n",
              "\n",
              "          const docLinkHtml = 'Like what you see? Visit the ' +\n",
              "            '<a target=\"_blank\" href=https://colab.research.google.com/notebooks/data_table.ipynb>data table notebook</a>'\n",
              "            + ' to learn more about interactive tables.';\n",
              "          element.innerHTML = '';\n",
              "          dataTable['output_type'] = 'display_data';\n",
              "          await google.colab.output.renderOutput(dataTable, element);\n",
              "          const docLink = document.createElement('div');\n",
              "          docLink.innerHTML = docLinkHtml;\n",
              "          element.appendChild(docLink);\n",
              "        }\n",
              "      </script>\n",
              "    </div>\n",
              "  </div>\n",
              "  "
            ]
          },
          "metadata": {},
          "execution_count": 45
        }
      ]
    },
    {
      "cell_type": "code",
      "source": [
        "dframe = pd.DataFrame({'Actual Price':Y_test, 'Predicted Price' : predict_price})"
      ],
      "metadata": {
        "id": "SfoD6H7qwkDp"
      },
      "id": "SfoD6H7qwkDp",
      "execution_count": 46,
      "outputs": []
    },
    {
      "cell_type": "code",
      "source": [
        "sd=dframe.sort_values(by='Actual Price')"
      ],
      "metadata": {
        "id": "nUKLSugMdsiV"
      },
      "id": "nUKLSugMdsiV",
      "execution_count": 47,
      "outputs": []
    },
    {
      "cell_type": "code",
      "source": [
        "sd['Actual Price']"
      ],
      "metadata": {
        "colab": {
          "base_uri": "https://localhost:8080/"
        },
        "id": "qydvKThNd7PI",
        "outputId": "7ae9fc54-d106-4117-b703-f2e00368303f"
      },
      "id": "qydvKThNd7PI",
      "execution_count": 48,
      "outputs": [
        {
          "output_type": "execute_result",
          "data": {
            "text/plain": [
              "5        15.800000\n",
              "4        16.110001\n",
              "6        17.459999\n",
              "31       17.600000\n",
              "9        18.139999\n",
              "           ...    \n",
              "1050    269.700012\n",
              "1674    273.510010\n",
              "1262    279.720001\n",
              "1052    281.190002\n",
              "1051    284.119995\n",
              "Name: Actual Price, Length: 423, dtype: float64"
            ]
          },
          "metadata": {},
          "execution_count": 48
        }
      ]
    },
    {
      "cell_type": "code",
      "source": [
        "print(sd) "
      ],
      "metadata": {
        "colab": {
          "base_uri": "https://localhost:8080/"
        },
        "id": "tE5pkBPExsEk",
        "outputId": "bfc5df34-dbfc-4177-a671-d33e5dabeb79"
      },
      "id": "tE5pkBPExsEk",
      "execution_count": 49,
      "outputs": [
        {
          "output_type": "stream",
          "name": "stdout",
          "text": [
            "      Actual Price  Predicted Price\n",
            "5        15.800000        15.396379\n",
            "4        16.110001        16.771326\n",
            "6        17.459999        16.689894\n",
            "31       17.600000        17.589502\n",
            "9        18.139999        18.015058\n",
            "...            ...              ...\n",
            "1050    269.700012       270.305547\n",
            "1674    273.510010       276.911968\n",
            "1262    279.720001       279.107467\n",
            "1052    281.190002       282.100091\n",
            "1051    284.119995       282.007728\n",
            "\n",
            "[423 rows x 2 columns]\n"
          ]
        }
      ]
    },
    {
      "cell_type": "code",
      "source": [
        "dframe.head(20).sort_values(by='Actual Price')"
      ],
      "metadata": {
        "colab": {
          "base_uri": "https://localhost:8080/",
          "height": 676
        },
        "id": "7-AemOIbyB6d",
        "outputId": "671bc22a-933f-4f80-f8dd-e364d9c1fec1"
      },
      "id": "7-AemOIbyB6d",
      "execution_count": 50,
      "outputs": [
        {
          "output_type": "execute_result",
          "data": {
            "text/plain": [
              "      Actual Price  Predicted Price\n",
              "6        17.459999        16.689894\n",
              "568      28.490000        28.229043\n",
              "229      28.980000        28.000102\n",
              "124      30.090000        31.253574\n",
              "642      34.099998        34.061340\n",
              "446      35.000000        34.933071\n",
              "646      36.000000        35.959804\n",
              "692      43.930000        45.089164\n",
              "891     139.339996       140.713590\n",
              "1608    183.770004       185.106451\n",
              "1628    198.690002       200.629306\n",
              "1397    204.990005       202.532384\n",
              "996     206.419998       203.932974\n",
              "1014    219.460007       220.307066\n",
              "1505    219.610001       220.689650\n",
              "1129    222.600006       221.879469\n",
              "1110    246.720001       243.620755\n",
              "1688    258.000000       255.654999\n",
              "1279    263.820007       265.429280\n",
              "1281    266.149994       267.090753"
            ],
            "text/html": [
              "\n",
              "  <div id=\"df-ff6000d8-4f45-47cd-8366-120339bd1258\">\n",
              "    <div class=\"colab-df-container\">\n",
              "      <div>\n",
              "<style scoped>\n",
              "    .dataframe tbody tr th:only-of-type {\n",
              "        vertical-align: middle;\n",
              "    }\n",
              "\n",
              "    .dataframe tbody tr th {\n",
              "        vertical-align: top;\n",
              "    }\n",
              "\n",
              "    .dataframe thead th {\n",
              "        text-align: right;\n",
              "    }\n",
              "</style>\n",
              "<table border=\"1\" class=\"dataframe\">\n",
              "  <thead>\n",
              "    <tr style=\"text-align: right;\">\n",
              "      <th></th>\n",
              "      <th>Actual Price</th>\n",
              "      <th>Predicted Price</th>\n",
              "    </tr>\n",
              "  </thead>\n",
              "  <tbody>\n",
              "    <tr>\n",
              "      <th>6</th>\n",
              "      <td>17.459999</td>\n",
              "      <td>16.689894</td>\n",
              "    </tr>\n",
              "    <tr>\n",
              "      <th>568</th>\n",
              "      <td>28.490000</td>\n",
              "      <td>28.229043</td>\n",
              "    </tr>\n",
              "    <tr>\n",
              "      <th>229</th>\n",
              "      <td>28.980000</td>\n",
              "      <td>28.000102</td>\n",
              "    </tr>\n",
              "    <tr>\n",
              "      <th>124</th>\n",
              "      <td>30.090000</td>\n",
              "      <td>31.253574</td>\n",
              "    </tr>\n",
              "    <tr>\n",
              "      <th>642</th>\n",
              "      <td>34.099998</td>\n",
              "      <td>34.061340</td>\n",
              "    </tr>\n",
              "    <tr>\n",
              "      <th>446</th>\n",
              "      <td>35.000000</td>\n",
              "      <td>34.933071</td>\n",
              "    </tr>\n",
              "    <tr>\n",
              "      <th>646</th>\n",
              "      <td>36.000000</td>\n",
              "      <td>35.959804</td>\n",
              "    </tr>\n",
              "    <tr>\n",
              "      <th>692</th>\n",
              "      <td>43.930000</td>\n",
              "      <td>45.089164</td>\n",
              "    </tr>\n",
              "    <tr>\n",
              "      <th>891</th>\n",
              "      <td>139.339996</td>\n",
              "      <td>140.713590</td>\n",
              "    </tr>\n",
              "    <tr>\n",
              "      <th>1608</th>\n",
              "      <td>183.770004</td>\n",
              "      <td>185.106451</td>\n",
              "    </tr>\n",
              "    <tr>\n",
              "      <th>1628</th>\n",
              "      <td>198.690002</td>\n",
              "      <td>200.629306</td>\n",
              "    </tr>\n",
              "    <tr>\n",
              "      <th>1397</th>\n",
              "      <td>204.990005</td>\n",
              "      <td>202.532384</td>\n",
              "    </tr>\n",
              "    <tr>\n",
              "      <th>996</th>\n",
              "      <td>206.419998</td>\n",
              "      <td>203.932974</td>\n",
              "    </tr>\n",
              "    <tr>\n",
              "      <th>1014</th>\n",
              "      <td>219.460007</td>\n",
              "      <td>220.307066</td>\n",
              "    </tr>\n",
              "    <tr>\n",
              "      <th>1505</th>\n",
              "      <td>219.610001</td>\n",
              "      <td>220.689650</td>\n",
              "    </tr>\n",
              "    <tr>\n",
              "      <th>1129</th>\n",
              "      <td>222.600006</td>\n",
              "      <td>221.879469</td>\n",
              "    </tr>\n",
              "    <tr>\n",
              "      <th>1110</th>\n",
              "      <td>246.720001</td>\n",
              "      <td>243.620755</td>\n",
              "    </tr>\n",
              "    <tr>\n",
              "      <th>1688</th>\n",
              "      <td>258.000000</td>\n",
              "      <td>255.654999</td>\n",
              "    </tr>\n",
              "    <tr>\n",
              "      <th>1279</th>\n",
              "      <td>263.820007</td>\n",
              "      <td>265.429280</td>\n",
              "    </tr>\n",
              "    <tr>\n",
              "      <th>1281</th>\n",
              "      <td>266.149994</td>\n",
              "      <td>267.090753</td>\n",
              "    </tr>\n",
              "  </tbody>\n",
              "</table>\n",
              "</div>\n",
              "      <button class=\"colab-df-convert\" onclick=\"convertToInteractive('df-ff6000d8-4f45-47cd-8366-120339bd1258')\"\n",
              "              title=\"Convert this dataframe to an interactive table.\"\n",
              "              style=\"display:none;\">\n",
              "        \n",
              "  <svg xmlns=\"http://www.w3.org/2000/svg\" height=\"24px\"viewBox=\"0 0 24 24\"\n",
              "       width=\"24px\">\n",
              "    <path d=\"M0 0h24v24H0V0z\" fill=\"none\"/>\n",
              "    <path d=\"M18.56 5.44l.94 2.06.94-2.06 2.06-.94-2.06-.94-.94-2.06-.94 2.06-2.06.94zm-11 1L8.5 8.5l.94-2.06 2.06-.94-2.06-.94L8.5 2.5l-.94 2.06-2.06.94zm10 10l.94 2.06.94-2.06 2.06-.94-2.06-.94-.94-2.06-.94 2.06-2.06.94z\"/><path d=\"M17.41 7.96l-1.37-1.37c-.4-.4-.92-.59-1.43-.59-.52 0-1.04.2-1.43.59L10.3 9.45l-7.72 7.72c-.78.78-.78 2.05 0 2.83L4 21.41c.39.39.9.59 1.41.59.51 0 1.02-.2 1.41-.59l7.78-7.78 2.81-2.81c.8-.78.8-2.07 0-2.86zM5.41 20L4 18.59l7.72-7.72 1.47 1.35L5.41 20z\"/>\n",
              "  </svg>\n",
              "      </button>\n",
              "      \n",
              "  <style>\n",
              "    .colab-df-container {\n",
              "      display:flex;\n",
              "      flex-wrap:wrap;\n",
              "      gap: 12px;\n",
              "    }\n",
              "\n",
              "    .colab-df-convert {\n",
              "      background-color: #E8F0FE;\n",
              "      border: none;\n",
              "      border-radius: 50%;\n",
              "      cursor: pointer;\n",
              "      display: none;\n",
              "      fill: #1967D2;\n",
              "      height: 32px;\n",
              "      padding: 0 0 0 0;\n",
              "      width: 32px;\n",
              "    }\n",
              "\n",
              "    .colab-df-convert:hover {\n",
              "      background-color: #E2EBFA;\n",
              "      box-shadow: 0px 1px 2px rgba(60, 64, 67, 0.3), 0px 1px 3px 1px rgba(60, 64, 67, 0.15);\n",
              "      fill: #174EA6;\n",
              "    }\n",
              "\n",
              "    [theme=dark] .colab-df-convert {\n",
              "      background-color: #3B4455;\n",
              "      fill: #D2E3FC;\n",
              "    }\n",
              "\n",
              "    [theme=dark] .colab-df-convert:hover {\n",
              "      background-color: #434B5C;\n",
              "      box-shadow: 0px 1px 3px 1px rgba(0, 0, 0, 0.15);\n",
              "      filter: drop-shadow(0px 1px 2px rgba(0, 0, 0, 0.3));\n",
              "      fill: #FFFFFF;\n",
              "    }\n",
              "  </style>\n",
              "\n",
              "      <script>\n",
              "        const buttonEl =\n",
              "          document.querySelector('#df-ff6000d8-4f45-47cd-8366-120339bd1258 button.colab-df-convert');\n",
              "        buttonEl.style.display =\n",
              "          google.colab.kernel.accessAllowed ? 'block' : 'none';\n",
              "\n",
              "        async function convertToInteractive(key) {\n",
              "          const element = document.querySelector('#df-ff6000d8-4f45-47cd-8366-120339bd1258');\n",
              "          const dataTable =\n",
              "            await google.colab.kernel.invokeFunction('convertToInteractive',\n",
              "                                                     [key], {});\n",
              "          if (!dataTable) return;\n",
              "\n",
              "          const docLinkHtml = 'Like what you see? Visit the ' +\n",
              "            '<a target=\"_blank\" href=https://colab.research.google.com/notebooks/data_table.ipynb>data table notebook</a>'\n",
              "            + ' to learn more about interactive tables.';\n",
              "          element.innerHTML = '';\n",
              "          dataTable['output_type'] = 'display_data';\n",
              "          await google.colab.output.renderOutput(dataTable, element);\n",
              "          const docLink = document.createElement('div');\n",
              "          docLink.innerHTML = docLinkHtml;\n",
              "          element.appendChild(docLink);\n",
              "        }\n",
              "      </script>\n",
              "    </div>\n",
              "  </div>\n",
              "  "
            ]
          },
          "metadata": {},
          "execution_count": 50
        }
      ]
    },
    {
      "cell_type": "code",
      "source": [
        "#get the accuracy score \n",
        "reg.score(X_test, Y_test)"
      ],
      "metadata": {
        "colab": {
          "base_uri": "https://localhost:8080/"
        },
        "id": "1OoMeixZyB9R",
        "outputId": "ace0d6a6-8d40-41de-ef31-418fbb25ae75"
      },
      "id": "1OoMeixZyB9R",
      "execution_count": 51,
      "outputs": [
        {
          "output_type": "execute_result",
          "data": {
            "text/plain": [
              "0.999703484441961"
            ]
          },
          "metadata": {},
          "execution_count": 51
        }
      ]
    },
    {
      "cell_type": "code",
      "source": [
        "#get errors of the model\n",
        "print('Absolute Error:', metrics.mean_absolute_error(Y_test,predict_price))\n",
        "print('Squared Error:', metrics.mean_squared_error(Y_test,predict_price))\n",
        "print('Root Squared Error:', np.sqrt(metrics.mean_squared_error(Y_test,predict_price)))"
      ],
      "metadata": {
        "colab": {
          "base_uri": "https://localhost:8080/"
        },
        "id": "XDGyr84I0YJK",
        "outputId": "456acda0-25a3-48cb-ad56-7bfcc2df6573"
      },
      "id": "XDGyr84I0YJK",
      "execution_count": 52,
      "outputs": [
        {
          "output_type": "stream",
          "name": "stdout",
          "text": [
            "Absolute Error: 1.0928260736454647\n",
            "Squared Error: 2.659515984376385\n",
            "Root Squared Error: 1.6308022517694736\n"
          ]
        }
      ]
    },
    {
      "cell_type": "code",
      "source": [
        "test = Y_test.sort_values"
      ],
      "metadata": {
        "id": "c41G-gmq0YPQ"
      },
      "id": "c41G-gmq0YPQ",
      "execution_count": 53,
      "outputs": []
    },
    {
      "cell_type": "markdown",
      "source": [
        ""
      ],
      "metadata": {
        "id": "5CUFnWwjcyoL"
      },
      "id": "5CUFnWwjcyoL"
    },
    {
      "cell_type": "code",
      "execution_count": 54,
      "id": "25af9ef5",
      "metadata": {
        "id": "25af9ef5",
        "colab": {
          "base_uri": "https://localhost:8080/"
        },
        "outputId": "c6ae446b-6133-4d50-b89b-ea91a3104310"
      },
      "outputs": [
        {
          "output_type": "execute_result",
          "data": {
            "text/plain": [
              "124      30.090000\n",
              "1688    258.000000\n",
              "1397    204.990005\n",
              "6        17.459999\n",
              "1279    263.820007\n",
              "           ...    \n",
              "1222    236.800003\n",
              "215      26.440001\n",
              "536      31.170000\n",
              "1630    202.490005\n",
              "1548    222.929993\n",
              "Name: Close, Length: 423, dtype: float64"
            ]
          },
          "metadata": {},
          "execution_count": 54
        }
      ],
      "source": [
        "Y_test"
      ]
    },
    {
      "cell_type": "code",
      "execution_count": 55,
      "id": "0ed72d1b",
      "metadata": {
        "id": "0ed72d1b",
        "colab": {
          "base_uri": "https://localhost:8080/",
          "height": 350
        },
        "outputId": "016a0ff5-9add-42a7-cf3f-be1cd7516667"
      },
      "outputs": [
        {
          "output_type": "display_data",
          "data": {
            "text/plain": [
              "<Figure size 1728x360 with 1 Axes>"
            ],
            "image/png": "[encoded data removed]"
          },
          "metadata": {
            "needs_background": "light"
          }
        }
      ],
      "source": [
        "#plot comparision of actual and ppredicted price \n",
        "plt.figure(figsize=(24,5))\n",
        "plt.plot(sd['Actual Price'], color = 'maroon', label = 'Real Tesla Stock Price')\n",
        "plt.plot(sd['Predicted Price'], color = 'blue', label = 'Predicted Tesla Stock Price')\n",
        "plt.title('Tesla Stock Price Prediction')\n",
        "plt.xlabel('Time')\n",
        "plt.ylabel('Tesla Stock Price')\n",
        "plt.legend()\n",
        "plt.show()"
      ]
    },
    {
      "cell_type": "code",
      "execution_count": null,
      "id": "f129dfe9",
      "metadata": {
        "id": "f129dfe9"
      },
      "outputs": [],
      "source": [
        ""
      ]
    },
    {
      "cell_type": "code",
      "execution_count": null,
      "id": "0a8aef2e",
      "metadata": {
        "id": "0a8aef2e"
      },
      "outputs": [],
      "source": [
        ""
      ]
    },
    {
      "cell_type": "code",
      "execution_count": null,
      "id": "861e9ae4",
      "metadata": {
        "id": "861e9ae4"
      },
      "outputs": [],
      "source": [
        ""
      ]
    }
  ],
  "metadata": {
    "kernelspec": {
      "display_name": "Python 3 (ipykernel)",
      "language": "python",
      "name": "python3"
    },
    "language_info": {
      "codemirror_mode": {
        "name": "ipython",
        "version": 3
      },
      "file_extension": ".py",
      "mimetype": "text/x-python",
      "name": "python",
      "nbconvert_exporter": "python",
      "pygments_lexer": "ipython3",
      "version": "3.9.7"
    },
    "colab": {
      "name": "Stock_Prediction_LinearRegression.ipynb",
      "provenance": [],
      "collapsed_sections": [],
      "include_colab_link": true
    }
  },
  "nbformat": 4,
  "nbformat_minor": 5
}